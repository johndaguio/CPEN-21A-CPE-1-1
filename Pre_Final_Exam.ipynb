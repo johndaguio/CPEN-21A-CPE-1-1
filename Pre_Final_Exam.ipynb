{
  "nbformat": 4,
  "nbformat_minor": 0,
  "metadata": {
    "colab": {
      "name": "Pre-Final Exam.ipynb",
      "provenance": [],
      "authorship_tag": "ABX9TyPYtuWPH7tMcmXtxnISeKYm",
      "include_colab_link": true
    },
    "kernelspec": {
      "name": "python3",
      "display_name": "Python 3"
    },
    "language_info": {
      "name": "python"
    }
  },
  "cells": [
    {
      "cell_type": "markdown",
      "metadata": {
        "id": "view-in-github",
        "colab_type": "text"
      },
      "source": [
        "<a href=\"https://colab.research.google.com/github/johndaguio/CPEN-21A-CPE-1-1/blob/main/Pre_Final_Exam.ipynb\" target=\"_parent\"><img src=\"https://colab.research.google.com/assets/colab-badge.svg\" alt=\"Open In Colab\"/></a>"
      ]
    },
    {
      "cell_type": "markdown",
      "source": [
        "#Pre-Final Exam"
      ],
      "metadata": {
        "id": "jmJ6Yh9_Fzjt"
      }
    },
    {
      "cell_type": "markdown",
      "source": [
        "###Problem Statement 1"
      ],
      "metadata": {
        "id": "kCWYZYVsGFpn"
      }
    },
    {
      "cell_type": "code",
      "source": [
        "sum = 0\n",
        "number = [-5,-4,-3,-2,-1,0,1,2,3,4]\n",
        "for x in number:\n",
        "  sum = sum + x\n",
        "print(sum)"
      ],
      "metadata": {
        "colab": {
          "base_uri": "https://localhost:8080/"
        },
        "id": "4S88E_L8GMet",
        "outputId": "a7bfa1d3-10c3-4927-b8a9-d9094b0192c7"
      },
      "execution_count": 8,
      "outputs": [
        {
          "output_type": "stream",
          "name": "stdout",
          "text": [
            "-5\n"
          ]
        }
      ]
    },
    {
      "cell_type": "markdown",
      "source": [
        "###Problem Statement 2"
      ],
      "metadata": {
        "id": "SsyhLDJ-LXWw"
      }
    },
    {
      "cell_type": "code",
      "source": [
        "number = int(input(\"1st number: \"))\n",
        "while (number!=0):\n",
        "  a = int(input(\"2nd number: \"))\n",
        "  b = int(input(\"3rd number: \"))\n",
        "  c = int(input(\"4th number: \"))\n",
        "  d = int(input(\"5th number: \"))\n",
        "  x = number + d\n",
        "  print(x)\n",
        "  break"
      ],
      "metadata": {
        "colab": {
          "base_uri": "https://localhost:8080/"
        },
        "id": "h0xldHB2Lc0G",
        "outputId": "d0780074-30e7-4150-92a2-dce44095d8b6"
      },
      "execution_count": 1,
      "outputs": [
        {
          "output_type": "stream",
          "name": "stdout",
          "text": [
            "1st number: 75\n",
            "2nd number: 83\n",
            "3rd number: 92\n",
            "4th number: 61\n",
            "5th number: 40\n",
            "115\n"
          ]
        }
      ]
    },
    {
      "cell_type": "markdown",
      "source": [
        "###Problem Statement 3"
      ],
      "metadata": {
        "id": "CvpiuvAbLdhj"
      }
    },
    {
      "cell_type": "code",
      "source": [
        "grade = int(input(\"Enter Grade: \"))\n",
        "if grade>=90:\n",
        "  print(\"Character Grade:A\")\n",
        "else:\n",
        "  if grade <90 and grade >89:\n",
        "    print(\"Grade Character:B\")\n",
        "  else:\n",
        "    if grade <79 and grade >70:\n",
        "      print(\"Character Grade:C\")\n",
        "    else:\n",
        "      if grade <69 and grade >60:\n",
        "        print(\"Character Grade:D\")\n",
        "      else:\n",
        "        print(\"Character Grade:F\")"
      ],
      "metadata": {
        "colab": {
          "base_uri": "https://localhost:8080/"
        },
        "id": "6UeljqEnLgcz",
        "outputId": "f2938076-780d-425f-a718-9c9b286b5c3c"
      },
      "execution_count": 6,
      "outputs": [
        {
          "output_type": "stream",
          "name": "stdout",
          "text": [
            "Enter Grade: 75\n",
            "Character Grade:C\n"
          ]
        }
      ]
    }
  ]
}