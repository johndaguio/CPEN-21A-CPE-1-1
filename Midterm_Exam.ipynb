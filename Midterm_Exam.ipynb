{
  "nbformat": 4,
  "nbformat_minor": 0,
  "metadata": {
    "colab": {
      "name": "Midterm Exam.ipynb",
      "provenance": [],
      "authorship_tag": "ABX9TyM8tITYaf2cdHDi0lYlL5Zz",
      "include_colab_link": true
    },
    "kernelspec": {
      "name": "python3",
      "display_name": "Python 3"
    },
    "language_info": {
      "name": "python"
    }
  },
  "cells": [
    {
      "cell_type": "markdown",
      "metadata": {
        "id": "view-in-github",
        "colab_type": "text"
      },
      "source": [
        "<a href=\"https://colab.research.google.com/github/johndaguio/CPEN-21A-CPE-1-1/blob/main/Midterm_Exam.ipynb\" target=\"_parent\"><img src=\"https://colab.research.google.com/assets/colab-badge.svg\" alt=\"Open In Colab\"/></a>"
      ]
    },
    {
      "cell_type": "markdown",
      "metadata": {
        "id": "m9nnJxR2hqhQ"
      },
      "source": [
        "#Midterm Exam"
      ]
    },
    {
      "cell_type": "code",
      "metadata": {
        "colab": {
          "base_uri": "https://localhost:8080/"
        },
        "id": "jGcT0SzWhtjA",
        "outputId": "f7529436-fe7e-451c-f74f-0a9a755bd9da"
      },
      "source": [
        "name = \"John Hendrick S. Daguio\"\n",
        "number = \"202101672\"\n",
        "Age = \"18\"\n",
        "Birthday = \"March 12, 2003\"\n",
        "Address = \"Block 5 Lot 20 Sunnydale The Garden Village Bucandala V Imus Cavite\"\n",
        "Course = \"Bachelor of Science in Computer Engineering\"\n",
        "GWA = \"97\"\n",
        "\n",
        "print(name)\n",
        "print(number)\n",
        "print(Age)\n",
        "print(Birthday)\n",
        "print(Address)\n",
        "print(Course)\n",
        "print(GWA)"
      ],
      "execution_count": 10,
      "outputs": [
        {
          "output_type": "stream",
          "name": "stdout",
          "text": [
            "John Hendrick S. Daguio\n",
            "202101672\n",
            "18\n",
            "March 12, 2003\n",
            "Block 5 Lot 20 Sunnydale The Garden Village Bucandala V Imus Cavite\n",
            "Bachelor of Science in Computer Engineering\n",
            "97\n"
          ]
        }
      ]
    },
    {
      "cell_type": "code",
      "metadata": {
        "colab": {
          "base_uri": "https://localhost:8080/"
        },
        "id": "sfw4KA8hj5bH",
        "outputId": "654946a9-2bc5-4711-c498-4cd476bb311c"
      },
      "source": [
        "n=4\n",
        "answ= \"Y\"\n",
        "a = (2<4) and (4<6)\n",
        "b = (2<4) or (4==6)\n",
        "c = not (2<4) or (4==6)\n",
        "d = not (4<6)\n",
        "e = (answ==\"Y\") or (answ==\"y\")\n",
        "f = (answ==\"Y\") and (answ==\"y\")\n",
        "g = not (answ==\"y\")\n",
        "h = (2<4) and (4==5+1) or (answ==\"No\")\n",
        "i = (4==2) and (4==7) or (answ==\"Y\")\n",
        "j = (4==2) and ((4==7) or (answ==\"Y\"))\n",
        "\n",
        "print(a)\n",
        "print(b)\n",
        "print(c)\n",
        "print(d)\n",
        "print(e)\n",
        "print(f)\n",
        "print(g)\n",
        "print(h)\n",
        "print(i)\n",
        "print(j)\n",
        "\n",
        "\n",
        "\n",
        "\n",
        "\n",
        "\n",
        "\n"
      ],
      "execution_count": 102,
      "outputs": [
        {
          "output_type": "stream",
          "name": "stdout",
          "text": [
            "True\n",
            "True\n",
            "False\n",
            "False\n",
            "True\n",
            "False\n",
            "True\n",
            "False\n",
            "True\n",
            "False\n"
          ]
        }
      ]
    },
    {
      "cell_type": "code",
      "metadata": {
        "colab": {
          "base_uri": "https://localhost:8080/"
        },
        "id": "8B_ZxjpKpFvD",
        "outputId": "18e887a1-9d5f-42c9-cf68-567ed179cfdb"
      },
      "source": [
        "print(2/-3)\n",
        "print(7/-3/2)\n",
        "print(-10/-3%2)\n",
        "print(2%--3*7)\n",
        "print(2%-3)\n",
        "print(-10%7--3/2*5+5)\n",
        "print(9-2%(2+-3))\n",
        "print(-10//7)\n",
        "print((2+-3)**2)\n",
        "print(7/2*2)"
      ],
      "execution_count": 39,
      "outputs": [
        {
          "output_type": "stream",
          "name": "stdout",
          "text": [
            "-0.6666666666666666\n",
            "-1.1666666666666667\n",
            "1.3333333333333335\n",
            "14\n",
            "-1\n",
            "16.5\n",
            "9\n",
            "-2\n",
            "1\n",
            "7.0\n"
          ]
        }
      ]
    }
  ]
}