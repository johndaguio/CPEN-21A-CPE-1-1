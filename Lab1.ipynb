{
  "nbformat": 4,
  "nbformat_minor": 0,
  "metadata": {
    "colab": {
      "name": "Lab1.ipynb",
      "provenance": [],
      "authorship_tag": "ABX9TyOkWBqSbqHzIVj2MAZPg1pB",
      "include_colab_link": true
    },
    "kernelspec": {
      "name": "python3",
      "display_name": "Python 3"
    },
    "language_info": {
      "name": "python"
    }
  },
  "cells": [
    {
      "cell_type": "markdown",
      "metadata": {
        "id": "view-in-github",
        "colab_type": "text"
      },
      "source": [
        "<a href=\"https://colab.research.google.com/github/johndaguio/CPEN-21A-CPE-1-1/blob/main/Lab1.ipynb\" target=\"_parent\"><img src=\"https://colab.research.google.com/assets/colab-badge.svg\" alt=\"Open In Colab\"/></a>"
      ]
    },
    {
      "cell_type": "markdown",
      "metadata": {
        "id": "_UqHlDU6Uh-j"
      },
      "source": [
        "## Laboratory 1"
      ]
    },
    {
      "cell_type": "code",
      "metadata": {
        "colab": {
          "base_uri": "https://localhost:8080/"
        },
        "id": "T_v7YQXmU1gZ",
        "outputId": "88fbea91-52c9-4a15-b96c-935bd69c73f6"
      },
      "source": [
        "a = \"Welcome to \"\n",
        "b = \"Python \"\n",
        "c = \"Programming\" \n",
        "print( a + b + c)"
      ],
      "execution_count": 20,
      "outputs": [
        {
          "output_type": "stream",
          "name": "stdout",
          "text": [
            "Welcome to Python Programming\n"
          ]
        }
      ]
    },
    {
      "cell_type": "code",
      "metadata": {
        "colab": {
          "base_uri": "https://localhost:8080/"
        },
        "id": "yvqeUTygWs1b",
        "outputId": "5d36e664-3480-4eef-fd73-c5bab6c85d47"
      },
      "source": [
        "name = \" John Hendrick S. Daguio\"\n",
        "address = \" Block 5 Lot 20 Sunnydale The Garden Village Bucandala V Imus Cavite\"\n",
        "age = \" 18\"\n",
        "\n",
        "print(name)\n",
        "print(address)\n",
        "print(age)"
      ],
      "execution_count": 16,
      "outputs": [
        {
          "output_type": "stream",
          "name": "stdout",
          "text": [
            " John Hendrick S. Daguio\n",
            " Block 5 Lot 20 Sunnydale The Garden Village Bucandala V Imus Cavite\n",
            " 18\n"
          ]
        }
      ]
    }
  ]
}